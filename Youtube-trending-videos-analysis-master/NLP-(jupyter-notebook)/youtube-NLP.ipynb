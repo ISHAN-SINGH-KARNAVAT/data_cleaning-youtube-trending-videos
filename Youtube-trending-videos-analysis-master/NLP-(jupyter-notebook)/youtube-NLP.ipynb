{
 "cells": [
  {
   "cell_type": "code",
   "execution_count": 9,
   "metadata": {},
   "outputs": [],
   "source": [
    "import json\n",
    "import numpy as np\n",
    "import matplotlib.pyplot as plt\n",
    "import pandas as pd"
   ]
  },
  {
   "cell_type": "code",
   "execution_count": null,
   "metadata": {},
   "outputs": [],
   "source": [
    "dataset = pd.read_csv('USvideos.csv')\n",
    "new_df = dataset[['title','channel_title','category_id','publish_time','tags','description','views']].copy()\n",
    "new_df.head()"
   ]
  },
  {
   "cell_type": "code",
   "execution_count": 10,
   "metadata": {},
   "outputs": [
    {
     "name": "stdout",
     "output_type": "stream",
     "text": [
      "{'kind': 'youtube#videoCategory', 'etag': '\"m2yskBQFythfE4irbTIeOgYYfBU/Xy1mB4_yLrHy_BmKmPBggty2mZQ\"', 'id': '1', 'snippet': {'channelId': 'UCBR8-60-B28hp2BmDPdntcQ', 'title': 'Film & Animation', 'assignable': True}}\n",
      "('1', 'Film & Animation')\n",
      "('2', 'Autos & Vehicles')\n",
      "('10', 'Music')\n",
      "('15', 'Pets & Animals')\n",
      "('17', 'Sports')\n",
      "('18', 'Short Movies')\n",
      "('19', 'Travel & Events')\n",
      "('20', 'Gaming')\n",
      "('21', 'Videoblogging')\n",
      "('22', 'People & Blogs')\n",
      "('23', 'Comedy')\n",
      "('24', 'Entertainment')\n",
      "('25', 'News & Politics')\n",
      "('26', 'Howto & Style')\n",
      "('27', 'Education')\n",
      "('28', 'Science & Technology')\n",
      "('29', 'Nonprofits & Activism')\n",
      "('30', 'Movies')\n",
      "('31', 'Anime/Animation')\n",
      "('32', 'Action/Adventure')\n",
      "('33', 'Classics')\n",
      "('34', 'Comedy')\n",
      "('35', 'Documentary')\n",
      "('36', 'Drama')\n",
      "('37', 'Family')\n",
      "('38', 'Foreign')\n",
      "('39', 'Horror')\n",
      "('40', 'Sci-Fi/Fantasy')\n",
      "('41', 'Thriller')\n",
      "('42', 'Shorts')\n",
      "('43', 'Shows')\n",
      "('44', 'Trailers')\n"
     ]
    }
   ],
   "source": [
    "with open('US_category_id.json') as f:\n",
    "    datastore = json.load(f)\n",
    "print(datastore['items'][0])\n",
    "for d in datastore['items']:\n",
    "    iden = d['id']\n",
    "    names = d['snippet']['title']\n",
    "    print((iden,names))"
   ]
  },
  {
   "cell_type": "code",
   "execution_count": 11,
   "metadata": {},
   "outputs": [],
   "source": [
    "# data cleaning and preparation\n",
    "import re\n",
    "import nltk\n",
    "from nltk.corpus import stopwords\n",
    "from nltk.stem.porter import PorterStemmer\n"
   ]
  },
  {
   "cell_type": "code",
   "execution_count": null,
   "metadata": {},
   "outputs": [],
   "source": [
    "title = re.sub('[^a-zA-Z]', '', new_df['title'][0])\n",
    "title\n",
    "new_df['description']"
   ]
  },
  {
   "cell_type": "code",
   "execution_count": null,
   "metadata": {},
   "outputs": [],
   "source": [
    "# data transformation\n",
    "def process(items):\n",
    "    corpus = []\n",
    "    for s in items:\n",
    "        s = re.sub('[^a-zA-Z]', ' ', s)\n",
    "        s = s.lower()\n",
    "        s = s.split()\n",
    "        ps = PorterStemmer()\n",
    "        s = [ps.stem(word) for word in s if not word in set(stopwords.words('english'))]\n",
    "        s = ' '.join(s)\n",
    "        corpus.append(s)\n",
    "    return corpus\n",
    "\n",
    "title = process(new_df['title'])\n",
    "channel_title = process(new_df['channel_title'])\n",
    "tags= process(new_df['tags'])"
   ]
  },
  {
   "cell_type": "code",
   "execution_count": null,
   "metadata": {},
   "outputs": [],
   "source": [
    "# data transformation: for just description\n",
    "def process_des(items):\n",
    "    corpus = []\n",
    "    for s in items:\n",
    "        if type(s)==str:\n",
    "            s = re.sub('[^a-zA-Z]', ' ', s)\n",
    "            s = s.lower()\n",
    "            s = re.sub(r'^https?:\\/\\/.*[\\r\\n]*', '', s, flags=re.MULTILINE)\n",
    "            #print(s)\n",
    "            s = s.split()\n",
    "            ps = PorterStemmer()\n",
    "            s = [ps.stem(word) for word in s if not word in set(stopwords.words('english'))]\n",
    "            s = ' '.join(s)\n",
    "            corpus.append(s)\n",
    "        else:\n",
    "            corpus.append('')\n",
    "    return corpus\n",
    "description= process_des(new_df['description'])"
   ]
  },
  {
   "cell_type": "code",
   "execution_count": null,
   "metadata": {},
   "outputs": [],
   "source": [
    "# # Creating the Bag of Words model\n",
    "from sklearn.feature_extraction.text import CountVectorizer\n",
    "\n",
    "agg_str = []\n",
    "for i in range(40949):\n",
    "    agg_str.append(title[i]+channel_title[i]+tags[i]+description[i])\n",
    "cv = CountVectorizer(max_features=3000)\n",
    "X = cv.fit_transform(agg_str).toarray()\n",
    "np.shape(X)"
   ]
  },
  {
   "cell_type": "code",
   "execution_count": null,
   "metadata": {},
   "outputs": [],
   "source": [
    "new_df['popularity'] = pd.cut(new_df.views, bins=[0,10000,100000,1000000,1000000000], labels=[1,2,3,4])\n",
    "p1 = new_df.index[new_df['popularity'] == 1].tolist()\n",
    "p2 = new_df.index[new_df['popularity'] == 2].tolist()\n",
    "p3 = new_df.index[new_df['popularity'] == 3].tolist()\n",
    "p4 = new_df.index[new_df['popularity'] == 4].tolist()"
   ]
  },
  {
   "cell_type": "code",
   "execution_count": null,
   "metadata": {},
   "outputs": [],
   "source": [
    "y = new_df.iloc[:,7].values\n",
    "y = y.astype(int)\n",
    "y"
   ]
  },
  {
   "cell_type": "code",
   "execution_count": null,
   "metadata": {},
   "outputs": [],
   "source": [
    "from sklearn.model_selection import train_test_split\n",
    "X_train, X_test, y_train, y_test = train_test_split(X, y, test_size = 0.20, random_state = 0)"
   ]
  },
  {
   "cell_type": "code",
   "execution_count": null,
   "metadata": {},
   "outputs": [],
   "source": [
    "# Fitting Naive Bayes to the Training set\n",
    "from sklearn.naive_bayes import GaussianNB\n",
    "classifier = GaussianNB()\n",
    "classifier.fit(X_train, y_train)\n",
    "\n",
    "# Predicting the Test set results\n",
    "y_pred = classifier.predict(X_test)\n",
    "\n",
    "# Making the Confusion Matrix\n",
    "from sklearn.metrics import confusion_matrix\n",
    "cm = confusion_matrix(y_test, y_pred)"
   ]
  },
  {
   "cell_type": "code",
   "execution_count": null,
   "metadata": {},
   "outputs": [],
   "source": [
    "cm"
   ]
  },
  {
   "cell_type": "code",
   "execution_count": null,
   "metadata": {},
   "outputs": [],
   "source": [
    "from sklearn.metrics import accuracy_score, cohen_kappa_score, classification_report\n",
    "#print(accuracy_score(y_test, y_pred))\n",
    "#print(cohen_kappa_score(y_test, y_pred))\n",
    "print(classification_report(y_test, y_pred, target_names=['1','2','3','4']))"
   ]
  },
  {
   "cell_type": "code",
   "execution_count": null,
   "metadata": {},
   "outputs": [],
   "source": [
    "# sentiment analysis\n",
    "from textblob import TextBlob\n",
    "\n",
    "positive = [0]*40949\n",
    "for i in range(40949):\n",
    "    zen = TextBlob(agg_str[i])\n",
    "    if zen.sentiment.polarity > 0:\n",
    "        positive[i] = 1"
   ]
  },
  {
   "cell_type": "code",
   "execution_count": null,
   "metadata": {},
   "outputs": [],
   "source": [
    "sum(positive)/len(positive)"
   ]
  },
  {
   "cell_type": "code",
   "execution_count": null,
   "metadata": {
    "scrolled": true
   },
   "outputs": [],
   "source": [
    "res1 = 0\n",
    "for i in p1:\n",
    "    res1+= positive[i]\n",
    "print(res1/len(p1))\n",
    "res1 = 0\n",
    "for i in p2:\n",
    "    res1+= positive[i]\n",
    "print(res1/len(p2))\n",
    "res1 = 0\n",
    "for i in p3:\n",
    "    res1+= positive[i]\n",
    "print(res1/len(p3))\n",
    "res1 = 0\n",
    "for i in p4:\n",
    "    res1+= positive[i]\n",
    "print(res1/len(p4))"
   ]
  },
  {
   "cell_type": "code",
   "execution_count": null,
   "metadata": {},
   "outputs": [],
   "source": [
    "\n",
    "# Python program to generate WordCloud \n",
    "# importing all necessery modules \n",
    "from wordcloud import WordCloud, STOPWORDS \n",
    "import matplotlib.pyplot as plt \n",
    "import pandas as pd \n",
    " \n",
    "edit_str = []   \n",
    "for i in range(40949):\n",
    "    edit_str.append(title[i]+channel_title[i]+tags[i])\n",
    "                   \n",
    "comment_words = ' '.join(edit_str)\n",
    "stopwords = set(STOPWORDS) \n",
    "  \n",
    "\n",
    "wordcloud = WordCloud(width = 800, height = 800, \n",
    "                background_color ='white', \n",
    "                stopwords = stopwords, \n",
    "                min_font_size = 10).generate(comment_words) \n",
    "  \n",
    "# plot the WordCloud image                        \n",
    "plt.figure(figsize = (8, 8), facecolor = None) \n",
    "plt.imshow(wordcloud) \n",
    "plt.axis(\"off\") \n",
    "plt.tight_layout(pad = 0) \n",
    "  \n",
    "plt.show() "
   ]
  },
  {
   "cell_type": "code",
   "execution_count": null,
   "metadata": {},
   "outputs": [],
   "source": [
    "# create coloring from image\n",
    "import random\n",
    "from wordcloud import ImageColorGenerator\n",
    "from PIL import Image\n",
    "\n",
    "def grey_color_func(word, font_size, position, orientation, random_state=None, **kwargs):\n",
    "    return \"hsl(0, 0%%, %d%%)\" % random.randint(10, 50)\n",
    "    \n",
    "mask = np.array(Image.open(\"youtube-t.png\"))\n",
    "\n",
    "wordcloud_youtube = WordCloud(stopwords=stopwords, background_color=\"white\", \n",
    "                          mode=\"RGBA\", mask=mask,collocations=False).generate(comment_words)\n",
    "\n",
    "image_colors = ImageColorGenerator(mask)\n",
    "plt.figure(figsize=[30,10])\n",
    "#plt.imshow(wordcloud_youtube) \n",
    "plt.imshow(wordcloud_youtube.recolor(color_func=image_colors), interpolation=\"bilinear\")\n",
    "plt.axis(\"off\")"
   ]
  },
  {
   "cell_type": "code",
   "execution_count": null,
   "metadata": {},
   "outputs": [],
   "source": [
    "with open(\"cloud.txt\", \"w\") as text_file:\n",
    "    text_file.write(comment_words)"
   ]
  },
  {
   "cell_type": "code",
   "execution_count": null,
   "metadata": {},
   "outputs": [],
   "source": [
    "from collections import Counter\n",
    "\n",
    "words = []\n",
    "for t in title:\n",
    "    words+=t.split(' ')\n",
    "for t in tags:\n",
    "    words+=t.split(' ')\n",
    "for t in channel_title:\n",
    "    words+=t.split(' ')\n",
    "Counter(words).most_common(100)"
   ]
  },
  {
   "cell_type": "code",
   "execution_count": null,
   "metadata": {},
   "outputs": [],
   "source": []
  },
  {
   "cell_type": "code",
   "execution_count": null,
   "metadata": {},
   "outputs": [],
   "source": []
  }
 ],
 "metadata": {
  "kernelspec": {
   "display_name": "Python 3",
   "language": "python",
   "name": "python3"
  },
  "language_info": {
   "codemirror_mode": {
    "name": "ipython",
    "version": 3
   },
   "file_extension": ".py",
   "mimetype": "text/x-python",
   "name": "python",
   "nbconvert_exporter": "python",
   "pygments_lexer": "ipython3",
   "version": "3.11.5"
  }
 },
 "nbformat": 4,
 "nbformat_minor": 2
}
